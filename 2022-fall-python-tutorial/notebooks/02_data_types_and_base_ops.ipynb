{
 "cells": [
  {
   "cell_type": "markdown",
   "metadata": {},
   "source": [
    "# Python Data Types\n",
    "\n",
    "A data type helps to classify a data item. A simple example of data type is Text vs. Numeric - think of Text data types as words or strings of letters like 'hello' or 'hh' while numeric would be a number like 17. In all there are eight main data types in python, most of which have sub-types as well. For more information please visit: https://www.w3schools.com/python/python_datatypes.asp to find examples of each type.<br><br>\n",
    "\n",
    "- **Text Type** (str)\n",
    "- **Numeric Types** (int, float, complex)\n",
    "- **Sequence Types** (list, tuple, range)\n",
    "- **Mapping Type** (dict)\n",
    "- **Set Types** (set, frozenset)\n",
    "- **Boolean Type** (bool)\n",
    "- **Binary Types** (bytes, bytearray, memoryview)\n",
    "- **NoneType** (None)\n",
    "\n",
    "In the remainder of this section, we'll cover some of the most common data types. \n",
    "\n",
    "**Text Type** <br>\n",
    "*str* are combinations of chacters that can be stored as a varaible, a list object, a dictionary object, or a column in a dataframe. Examples below: "
   ]
  },
  {
   "cell_type": "code",
   "execution_count": null,
   "metadata": {},
   "outputs": [],
   "source": [
    "# Define str varibale\n",
    "x = 'yes'\n",
    "y = 'no'\n",
    "\n",
    "# Define variable for file path\n",
    "file_path = './2022-fall-python-tutorial/data/2021_boxscores.csv'"
   ]
  },
  {
   "cell_type": "markdown",
   "metadata": {},
   "source": [
    "**Numeric Types** <br>\n",
    "*int* are whole numbers such as 1, 2, or 3. A *float* is a number that can contain decimals. Examples being 1.0 or 100.9234. Similar to Text Types, these types can also be stored as a variable, a list object, a dictionary object, or a column in a dataframe. Int types take up less storage space than floats, so when possible it is better to store data as an int. <br><br>"
   ]
  },
  {
   "cell_type": "code",
   "execution_count": 1,
   "metadata": {},
   "outputs": [],
   "source": [
    "# Float variable\n",
    "float_var = 1.25\n",
    "\n",
    "# Int variable\n",
    "int_var = 100"
   ]
  },
  {
   "cell_type": "markdown",
   "metadata": {},
   "source": [
    "**Sequence Type - List** <br>\n",
    "A *list* is a set of objects that can be edited. Lists can be used to store data or create an iterable object for a loop. <br><br>"
   ]
  },
  {
   "cell_type": "code",
   "execution_count": 5,
   "metadata": {},
   "outputs": [],
   "source": [
    "# List of strings\n",
    "shopping_list = ['bread', 'chicken', 'apples']\n",
    "\n",
    "# List of numbers\n",
    "number_list = [1, 2, 3]"
   ]
  },
  {
   "cell_type": "markdown",
   "metadata": {},
   "source": [
    "Each object in a list has an *index* reference, which is a way to reference a certain object using its place in the list. **Important:** the first object in a list is 0, the second object is 1, the third is 2, and so on through the end of the list. "
   ]
  },
  {
   "cell_type": "code",
   "execution_count": 10,
   "metadata": {},
   "outputs": [
    {
     "name": "stdout",
     "output_type": "stream",
     "text": [
      "The first object in shopping_list = bread\n",
      "The second object in shopping_list = chicken\n",
      "The third object in shopping_list = apples\n"
     ]
    }
   ],
   "source": [
    "# Print each object in shopping list\n",
    "print('The first object in shopping_list = ' + shopping_list[0])\n",
    "print('The second object in shopping_list = ' + shopping_list[1])\n",
    "print('The third object in shopping_list = ' + shopping_list[2])"
   ]
  },
  {
   "cell_type": "markdown",
   "metadata": {},
   "source": [
    "Lists are *mutable*, meaning that they can be edited. Objects can be added to lists or removed from lists. "
   ]
  },
  {
   "cell_type": "code",
   "execution_count": 6,
   "metadata": {},
   "outputs": [
    {
     "name": "stdout",
     "output_type": "stream",
     "text": [
      "['bread', 'chicken', 'apples', 'beef']\n"
     ]
    }
   ],
   "source": [
    "# Add object to shopping_list\n",
    "shopping_list.append('beef')\n",
    "print(shopping_list)"
   ]
  },
  {
   "cell_type": "code",
   "execution_count": 12,
   "metadata": {},
   "outputs": [
    {
     "name": "stdout",
     "output_type": "stream",
     "text": [
      "['bread', 'chicken', 'apples']\n"
     ]
    }
   ],
   "source": [
    "# Remove 'beef' from the shopping list\n",
    "shopping_list.remove('beef')\n",
    "print(shopping_list)"
   ]
  },
  {
   "cell_type": "code",
   "execution_count": 13,
   "metadata": {},
   "outputs": [
    {
     "name": "stdout",
     "output_type": "stream",
     "text": [
      "['bread', 'apples']\n"
     ]
    }
   ],
   "source": [
    "# Remove the second object from the list\n",
    "shopping_list.pop(1)\n",
    "print(shopping_list)"
   ]
  },
  {
   "cell_type": "markdown",
   "metadata": {},
   "source": [
    "**Sequence Type - Tuple**<br>\n",
    "A *tuple* is similar to a list, however, it is *immutable* meaning that it can not be edited. "
   ]
  },
  {
   "cell_type": "code",
   "execution_count": 14,
   "metadata": {},
   "outputs": [],
   "source": [
    "# Define a tuple\n",
    "breakfast_tuple = ('eggs', 'bacon', 'sausage')"
   ]
  },
  {
   "cell_type": "code",
   "execution_count": 15,
   "metadata": {},
   "outputs": [
    {
     "ename": "AttributeError",
     "evalue": "'tuple' object has no attribute 'remove'",
     "output_type": "error",
     "traceback": [
      "\u001b[1;31m---------------------------------------------------------------------------\u001b[0m",
      "\u001b[1;31mAttributeError\u001b[0m                            Traceback (most recent call last)",
      "\u001b[1;32m<ipython-input-15-2db1e3ed557b>\u001b[0m in \u001b[0;36m<module>\u001b[1;34m\u001b[0m\n\u001b[0;32m      1\u001b[0m \u001b[1;31m# Attempt to remove object from tuple\u001b[0m\u001b[1;33m\u001b[0m\u001b[1;33m\u001b[0m\u001b[1;33m\u001b[0m\u001b[0m\n\u001b[1;32m----> 2\u001b[1;33m \u001b[0mbreakfast_tuple\u001b[0m\u001b[1;33m.\u001b[0m\u001b[0mremove\u001b[0m\u001b[1;33m(\u001b[0m\u001b[1;34m'eggs'\u001b[0m\u001b[1;33m)\u001b[0m\u001b[1;33m\u001b[0m\u001b[1;33m\u001b[0m\u001b[0m\n\u001b[0m",
      "\u001b[1;31mAttributeError\u001b[0m: 'tuple' object has no attribute 'remove'"
     ]
    }
   ],
   "source": [
    "# Attempt to remove object from tuple\n",
    "breakfast_tuple.remove('eggs')"
   ]
  },
  {
   "cell_type": "markdown",
   "metadata": {},
   "source": [
    "**Mapping Type - Dictionary**<br>\n",
    "A *dictionary* is the last sequence type covered in this tutorial. Dictionaries are a great data storage option because they use a key-value pair. For example, I could create a ditionary of people & their addresses like in the table below: \n",
    "\n",
    "| Key | Value |\n",
    "| --- | --- |\n",
    "| Joe | 123 Main St. |\n",
    "| John | 124 Main St. |\n",
    "| Jake | 125 Main St. |\n",
    "\n",
    "This key-value pair allows for fast indexing and additionally a straightforward way to assign values to a master object. "
   ]
  },
  {
   "cell_type": "code",
   "execution_count": 16,
   "metadata": {},
   "outputs": [
    {
     "name": "stdout",
     "output_type": "stream",
     "text": [
      "{'joe': '123 Main St.', 'john': '124 Main St.', 'jake': '125 Main St.'}\n"
     ]
    }
   ],
   "source": [
    "# Define address dictionary\n",
    "address_dict = {\n",
    "    'joe': '123 Main St.', \n",
    "    'john': '124 Main St.', \n",
    "    'jake': '125 Main St.'}\n",
    "\n",
    "print(address_dict)"
   ]
  },
  {
   "cell_type": "code",
   "execution_count": 20,
   "metadata": {},
   "outputs": [
    {
     "name": "stdout",
     "output_type": "stream",
     "text": [
      "['joe', 'john', 'jake']\n"
     ]
    }
   ],
   "source": [
    "# Select all keys into a list\n",
    "print(list(address_dict.keys()))"
   ]
  },
  {
   "cell_type": "code",
   "execution_count": 21,
   "metadata": {},
   "outputs": [
    {
     "name": "stdout",
     "output_type": "stream",
     "text": [
      "['123 Main St.', '124 Main St.', '125 Main St.']\n"
     ]
    }
   ],
   "source": [
    "# Select all values into a list\n",
    "print(list(address_dict.values()))"
   ]
  },
  {
   "cell_type": "code",
   "execution_count": 17,
   "metadata": {},
   "outputs": [
    {
     "name": "stdout",
     "output_type": "stream",
     "text": [
      "124 Main St.\n"
     ]
    }
   ],
   "source": [
    "# Section street value for john\n",
    "print(address_dict['john'])"
   ]
  },
  {
   "cell_type": "markdown",
   "metadata": {},
   "source": [
    "**Miscellaneous Data Types**<br>\n",
    "\n",
    "A **Range** is a sequence of numbers - often used in loops for iterations. Using range(5), creates a range between 0 & 4 --> [0, 1, 2, 3, 4]"
   ]
  },
  {
   "cell_type": "code",
   "execution_count": 23,
   "metadata": {},
   "outputs": [
    {
     "name": "stdout",
     "output_type": "stream",
     "text": [
      "[0, 1, 2, 3, 4]\n"
     ]
    }
   ],
   "source": [
    "# Define a range using a number\n",
    "num_range = range(5)\n",
    "print(list(num_range))"
   ]
  },
  {
   "cell_type": "code",
   "execution_count": 27,
   "metadata": {},
   "outputs": [
    {
     "name": "stdout",
     "output_type": "stream",
     "text": [
      "['bread', 'apples']\n",
      "[0, 1]\n"
     ]
    }
   ],
   "source": [
    "# Define a range using the length of an existing list\n",
    "list_range = range(len(shopping_list))\n",
    "print(shopping_list)\n",
    "print(list(list_range))"
   ]
  },
  {
   "cell_type": "markdown",
   "metadata": {},
   "source": [
    "A **NoneType** is an empty type this can be used in conditinal criteria to break loops. Loops will be covered in a later section. "
   ]
  },
  {
   "cell_type": "code",
   "execution_count": 32,
   "metadata": {},
   "outputs": [
    {
     "name": "stdout",
     "output_type": "stream",
     "text": [
      "fake_var = None\n"
     ]
    }
   ],
   "source": [
    "# Define fake_var\n",
    "fake_var = None\n",
    "\n",
    "# Test fake_var type\n",
    "for i in range(1):\n",
    "\n",
    "    if fake_var == None:\n",
    "\n",
    "        print('fake_var = None')\n",
    "    \n",
    "    else:\n",
    "        print('Nothing')"
   ]
  },
  {
   "cell_type": "markdown",
   "metadata": {},
   "source": [
    "#### Next Steps\n",
    "Now that we have a base understanding of what Python is & how to use it to create a project (one of many ways!), let's start *actually* using Python!\n",
    "\n",
    "Head back to the [Course Intro](./00_course_intro.ipynb) or to the next section: [Loading Packages & Data with Python](./03_loading_packages_and_data.ipynb)"
   ]
  }
 ],
 "metadata": {
  "kernelspec": {
   "display_name": "Python 3.8.8 ('base')",
   "language": "python",
   "name": "python3"
  },
  "language_info": {
   "codemirror_mode": {
    "name": "ipython",
    "version": 3
   },
   "file_extension": ".py",
   "mimetype": "text/x-python",
   "name": "python",
   "nbconvert_exporter": "python",
   "pygments_lexer": "ipython3",
   "version": "3.8.8"
  },
  "orig_nbformat": 4,
  "vscode": {
   "interpreter": {
    "hash": "77e84ef247564dcb1f65a86392ae49f602e85e74df53693c47a42d611cbf3c75"
   }
  }
 },
 "nbformat": 4,
 "nbformat_minor": 2
}
