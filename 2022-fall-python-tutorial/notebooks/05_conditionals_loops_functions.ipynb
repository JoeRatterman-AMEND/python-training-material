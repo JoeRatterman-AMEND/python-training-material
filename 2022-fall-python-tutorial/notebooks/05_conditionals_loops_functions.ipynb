{
 "cells": [
  {
   "cell_type": "markdown",
   "metadata": {},
   "source": [
    "# Conditionals, Loops, & Functions\n",
    "\n",
    "### Conditionals (If --> Then)\n",
    "This section focuses on if-then logic. This can be very useful when mulitple processes are needed depending on a specified criteria. If this happens do this, but if that happens do that. Similar to an IF statement that is in Excel, If statements help make code flow more smoothly & can help make decisions in an automated fashion. <br>\n",
    "\n",
    "The base setup is <br>\n",
    "\n",
    "**if** *criteria*: <br>\n",
    "&emsp;*action*: <br>\n",
    "**else**: <br>\n",
    "&emsp;*alternate action* <br><br>\n",
    "\n",
    "There can also be tests for multiple criteria - using **elif** <br>\n",
    "\n",
    "**if** *criteria*: <br>\n",
    "&emsp;*action*: <br>\n",
    "**elif** *second criteria*: <br>\n",
    "&emsp;*action 2* <br>\n",
    "**else**:\n",
    "&emsp;*action 3* <br><br>\n",
    "\n",
    "If statements can also be nested - the logic & structure stay the same.<br>\n",
    "**if** *criteria*: <br>\n",
    "&emsp;**if** *nested criteria*:<br>\n",
    "&emsp;&emsp;*nested action 1*: <br>\n",
    "&emsp;**else**<br>\n",
    "&emsp;&emsp;*nested action 2*: <br>\n",
    "**else**: <br>\n",
    "&emsp;*alternate action* <br><br>\n",
    "\n",
    "If criteria uses common comparison operators - for example: \n",
    "- == \n",
    "- !=\n",
    "- less than / less than or equal\n",
    "- greater than / greater than or equal\n",
    "\n",
    "\n",
    "Most operations that can be used in filters can also be used as If criteria. \n"
   ]
  },
  {
   "cell_type": "code",
   "execution_count": 1,
   "metadata": {},
   "outputs": [
    {
     "name": "stdout",
     "output_type": "stream",
     "text": [
      "List is complete.\n"
     ]
    }
   ],
   "source": [
    "# First example - single if statement\n",
    "shopping_list = ['apple', 'orange', 'banana']\n",
    "\n",
    "# Check if my shopping list is complete\n",
    "if len(shopping_list) == 3:\n",
    "    print('List is complete.')\n",
    "else:\n",
    "    print('Add more items to my list.')"
   ]
  },
  {
   "cell_type": "code",
   "execution_count": 2,
   "metadata": {},
   "outputs": [
    {
     "name": "stdout",
     "output_type": "stream",
     "text": [
      "Add one more item to my list.\n"
     ]
    }
   ],
   "source": [
    "# Second example - double if statement\n",
    "shopping_list = ['apple', 'orange']\n",
    "\n",
    "# Check if my shopping list is complete\n",
    "if len(shopping_list) == 3:\n",
    "    print('List is complete.')\n",
    "elif len(shopping_list) == 2:\n",
    "    print('Add one more item to my list.')\n",
    "else: \n",
    "    print('Add multiple items to my list.')"
   ]
  },
  {
   "cell_type": "code",
   "execution_count": 3,
   "metadata": {},
   "outputs": [
    {
     "name": "stdout",
     "output_type": "stream",
     "text": [
      "My list is complete. It includes apples.\n"
     ]
    }
   ],
   "source": [
    "# Third example - nested if statement\n",
    "shopping_list = ['apple', 'orange', 'banana']\n",
    "\n",
    "if len(shopping_list) == 3:\n",
    "    if 'apple' in shopping_list:\n",
    "        print('My list is complete. It includes apples.')\n",
    "    else: \n",
    "        print('my list is complete. It does not include apples.')\n",
    "elif len(shopping_list) == 2:\n",
    "    print('Add one more item to my list.')\n",
    "else: \n",
    "    print('Add multiple items to my list.')"
   ]
  },
  {
   "cell_type": "markdown",
   "metadata": {},
   "source": [
    "### Loops\n",
    "\n",
    "Loops repeat a process over each item in an iterable. An iterable can be a list, tuple, dictionary, etc. The most common loops are **for** and **while** loops. A **for** loop iterates over a finite number of items, but a **while** loop iterates until a certain criteria is met. <br>\n",
    "\n",
    "**For** loop example: <br>\n",
    "\n",
    "Print every item in my list. \n",
    "\n",
    "**While** loop example: <br>\n",
    "\n",
    "Print a 'hello' until my counter = 100. "
   ]
  },
  {
   "cell_type": "code",
   "execution_count": 4,
   "metadata": {},
   "outputs": [
    {
     "name": "stdout",
     "output_type": "stream",
     "text": [
      "apple\n",
      "orange\n",
      "banana\n"
     ]
    }
   ],
   "source": [
    "# Print every object in the shopping_list\n",
    "for item in shopping_list:\n",
    "    print(item)"
   ]
  },
  {
   "cell_type": "code",
   "execution_count": 23,
   "metadata": {},
   "outputs": [
    {
     "name": "stdout",
     "output_type": "stream",
     "text": [
      "hi\n",
      "hi\n",
      "hi\n",
      "hi\n",
      "hi\n"
     ]
    }
   ],
   "source": [
    "# Define cntr\n",
    "cntr = 0\n",
    "\n",
    "# Print 'hello' 5 until my counter = 5\n",
    "while cntr < 5:\n",
    "\n",
    "    # Print 'hello'\n",
    "    print('hi')\n",
    "\n",
    "    # Add 1 to counter\n",
    "    cntr += 1"
   ]
  },
  {
   "cell_type": "markdown",
   "metadata": {},
   "source": [
    "Rather than iterating over each item in a list, you can also iterate over a range of numbers. This is useful when you have a set number of processes to do & need to access a list or dataframes index."
   ]
  },
  {
   "cell_type": "code",
   "execution_count": 9,
   "metadata": {},
   "outputs": [
    {
     "name": "stdout",
     "output_type": "stream",
     "text": [
      "apple\n",
      "orange\n",
      "banana\n"
     ]
    }
   ],
   "source": [
    "# Alternative iteration over shopping_list\n",
    "for i in range(len(shopping_list)):\n",
    "    print(shopping_list[i])"
   ]
  },
  {
   "cell_type": "markdown",
   "metadata": {},
   "source": [
    "In some cases, it may be beneficial to stop a loop early or skip over certain iterations: \n",
    "- **break**: stop a loop early\n",
    "- **continue**: jump to next iteration"
   ]
  },
  {
   "cell_type": "code",
   "execution_count": 14,
   "metadata": {},
   "outputs": [
    {
     "name": "stdout",
     "output_type": "stream",
     "text": [
      "Shopping list: \n",
      "['apple', 'orange', 'banana']\n",
      "List item = apple\n"
     ]
    }
   ],
   "source": [
    "# Print shopping_list\n",
    "print('Shopping list: ')\n",
    "print(shopping_list)\n",
    "\n",
    "# Iterate over shopping_list\n",
    "for item in shopping_list:\n",
    "    \n",
    "    # Check if item = orange\n",
    "    if item == 'orange':\n",
    "        break\n",
    "    else:\n",
    "        print('List item = ' + item)"
   ]
  },
  {
   "cell_type": "code",
   "execution_count": 17,
   "metadata": {},
   "outputs": [
    {
     "name": "stdout",
     "output_type": "stream",
     "text": [
      "Number = 4\n",
      "Number = 6\n",
      "Number = 5\n"
     ]
    }
   ],
   "source": [
    "# Create list of numbers\n",
    "num_list = [0, 4, 6, -1, -9, 5, -3]\n",
    "\n",
    "# Loop through num list printing only positive numbers\n",
    "for num in num_list: \n",
    "\n",
    "    if num <= 0: \n",
    "        continue\n",
    "    else:\n",
    "        print('Number = ' + str(num))"
   ]
  },
  {
   "cell_type": "markdown",
   "metadata": {},
   "source": [
    "### User-defined Functions\n",
    "\n",
    "A user-defined function is used to to simplify code for repeated processes. The general rule for writing a function is if you have to copy and paste code, you should convert it into a function. For example, if I'm frequently having to calculate the square root of a number, adding 5, multiplying by 5, and subtracting 8, I can write a function to simplify the process. <br>\n",
    "\n",
    "A function has a few primary features: \n",
    "1) Name definition\n",
    "2) Inputs\n",
    "3) Logic\n",
    "4) Return statemnet\n",
    "\n",
    "The name defintion, using **def**, tells python that you're writing a function. The input is the 'input' of the common procedure that will be repeated. In our example, the number we run through the process of the square root, addition, multiplication, & subtraction. The logic would be the repeated steps (see example below - sq. root, addition of 5, multiplication by 5, and subtraction of 8). The return tells python what should be the output of the process. Our examples output will be the final number. "
   ]
  },
  {
   "cell_type": "code",
   "execution_count": 34,
   "metadata": {},
   "outputs": [
    {
     "name": "stdout",
     "output_type": "stream",
     "text": [
      "49.78719262151\n"
     ]
    }
   ],
   "source": [
    "# Import sqrt function from the math package\n",
    "from math import sqrt\n",
    "\n",
    "# Define square root function\n",
    "def num_manip(num): \n",
    "\n",
    "    # Take square root\n",
    "    calc_num = sqrt(num)\n",
    "  \n",
    "    # Add 5\n",
    "    calc_num += 5\n",
    "  \n",
    "    # Multiply by 5\n",
    "    calc_num = calc_num * 5\n",
    "\n",
    "    # Subtract 8\n",
    "    calc_num = calc_num - 8\n",
    "\n",
    "    # Return solution \n",
    "    return calc_num\n",
    "# Calculate the square root + 5\n",
    "print(num_manip(43))"
   ]
  },
  {
   "cell_type": "markdown",
   "metadata": {},
   "source": [
    "In the above example, we define a relatively straightforward process, however, by defining one function we reduce around 10 lines of code to 1. As we run this code more and more times, we reduce additional lines of code. See example: "
   ]
  },
  {
   "cell_type": "code",
   "execution_count": 35,
   "metadata": {},
   "outputs": [
    {
     "name": "stdout",
     "output_type": "stream",
     "text": [
      "67.0\n",
      "93.48529270389177\n",
      "512.5552441453929\n"
     ]
    }
   ],
   "source": [
    "# Run function 3 times\n",
    "print(num_manip(100))\n",
    "print(num_manip(234))\n",
    "print(num_manip(9823))"
   ]
  },
  {
   "cell_type": "code",
   "execution_count": 36,
   "metadata": {},
   "outputs": [
    {
     "name": "stdout",
     "output_type": "stream",
     "text": [
      "67.0\n",
      "93.48529270389177\n",
      "512.5552441453929\n"
     ]
    }
   ],
   "source": [
    "# Define num\n",
    "num = 100\n",
    "\n",
    "# Take square root\n",
    "calc_num = sqrt(num)\n",
    "\n",
    "# Add 5\n",
    "calc_num += 5\n",
    "\n",
    "# Multiply by 5\n",
    "calc_num = calc_num * 5\n",
    "\n",
    "# Subtract 8\n",
    "calc_num = calc_num - 8\n",
    "\n",
    "# Print result\n",
    "print(calc_num)\n",
    "\n",
    "# Define num\n",
    "num = 234\n",
    "\n",
    "# Take square root\n",
    "calc_num = sqrt(num)\n",
    "\n",
    "# Add 5\n",
    "calc_num += 5\n",
    "\n",
    "# Multiply by 5\n",
    "calc_num = calc_num * 5\n",
    "\n",
    "# Subtract 8\n",
    "calc_num = calc_num - 8\n",
    "\n",
    "# Print result\n",
    "print(calc_num)\n",
    "\n",
    "# Define num\n",
    "num = 9823\n",
    "\n",
    "# Take square root\n",
    "calc_num = sqrt(num)\n",
    "\n",
    "# Add 5\n",
    "calc_num += 5\n",
    "\n",
    "# Multiply by 5\n",
    "calc_num = calc_num * 5\n",
    "\n",
    "# Subtract 8\n",
    "calc_num = calc_num - 8\n",
    "\n",
    "# Print result\n",
    "print(calc_num)"
   ]
  },
  {
   "cell_type": "markdown",
   "metadata": {},
   "source": [
    "#### Next Steps\n",
    "\n",
    "Head back to the [Course Intro](./00_course_intro.ipynb) or to the next section: [Additional Topics](./06_additional_topics.ipynb)"
   ]
  }
 ],
 "metadata": {
  "kernelspec": {
   "display_name": "Python 3.8.8 ('base')",
   "language": "python",
   "name": "python3"
  },
  "language_info": {
   "codemirror_mode": {
    "name": "ipython",
    "version": 3
   },
   "file_extension": ".py",
   "mimetype": "text/x-python",
   "name": "python",
   "nbconvert_exporter": "python",
   "pygments_lexer": "ipython3",
   "version": "3.8.8"
  },
  "orig_nbformat": 4,
  "vscode": {
   "interpreter": {
    "hash": "77e84ef247564dcb1f65a86392ae49f602e85e74df53693c47a42d611cbf3c75"
   }
  }
 },
 "nbformat": 4,
 "nbformat_minor": 2
}
