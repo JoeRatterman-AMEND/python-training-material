{
 "cells": [
  {
   "cell_type": "markdown",
   "metadata": {},
   "source": [
    "# Python Overview\n",
    "\n",
    "## Python as a Calculator\n",
    "So you've now installed python & are ready to begin coding. To show the basics of python let's run through a few practice challenge problems (CP) to test your skills. "
   ]
  },
  {
   "cell_type": "markdown",
   "metadata": {},
   "source": [
    "#### CP #1\n",
    "Calculate & print the value of (100 + 100)/ 300:"
   ]
  },
  {
   "cell_type": "code",
   "execution_count": null,
   "metadata": {},
   "outputs": [],
   "source": [
    "# Calculate answer for CP #1\n"
   ]
  },
  {
   "cell_type": "markdown",
   "metadata": {},
   "source": [
    "#### CP #2\n",
    "Calculate & print the the remainder of (100^5)/100^4:"
   ]
  },
  {
   "cell_type": "code",
   "execution_count": null,
   "metadata": {},
   "outputs": [],
   "source": [
    "# Calculate answer for CP #2"
   ]
  },
  {
   "cell_type": "markdown",
   "metadata": {},
   "source": [
    "#### Next Steps\n",
    "Contratulations! You completed the first set of challenge problems in this tutorial. \n",
    "\n",
    "Head back to the [Course Intro](./00_course_intro.ipynb) or to the next section: [Python Data Types & Base Operations](./02_data_types_and_base_ops.ipynb)"
   ]
  }
 ],
 "metadata": {
  "kernelspec": {
   "display_name": "Python 3.10.6 64-bit",
   "language": "python",
   "name": "python3"
  },
  "language_info": {
   "name": "python",
   "version": "3.10.6"
  },
  "orig_nbformat": 4,
  "vscode": {
   "interpreter": {
    "hash": "7647ba9298a729004ac304b6e4448421e14775e9b2492e20497bf3db620b69a5"
   }
  }
 },
 "nbformat": 4,
 "nbformat_minor": 2
}
