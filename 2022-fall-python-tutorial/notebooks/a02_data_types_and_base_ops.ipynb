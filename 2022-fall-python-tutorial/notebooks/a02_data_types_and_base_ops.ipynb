{
 "cells": [
  {
   "cell_type": "markdown",
   "metadata": {},
   "source": [
    "# Python Data Types\n",
    "\n",
    "### List Manipulation\n",
    "\n",
    "In this set of challenge problems, we will create a list, select specified values, and complete general manipulation. "
   ]
  },
  {
   "cell_type": "markdown",
   "metadata": {},
   "source": [
    "#### CP #1\n",
    "\n",
    "Create a list of your 3 favorite fruits: "
   ]
  },
  {
   "cell_type": "code",
   "execution_count": null,
   "metadata": {},
   "outputs": [],
   "source": [
    "# Define fruit list\n",
    "fruit_list = "
   ]
  },
  {
   "cell_type": "markdown",
   "metadata": {},
   "source": [
    "#### CP #2\n",
    "\n",
    "Print the only second fruit in your list: "
   ]
  },
  {
   "cell_type": "code",
   "execution_count": null,
   "metadata": {},
   "outputs": [],
   "source": [
    "# Print second object in fruit list\n",
    "print(fruit_list)"
   ]
  },
  {
   "cell_type": "markdown",
   "metadata": {},
   "source": [
    "#### CP #3\n",
    "\n",
    "Remove the third item in your list:"
   ]
  },
  {
   "cell_type": "code",
   "execution_count": null,
   "metadata": {},
   "outputs": [],
   "source": [
    "# Remove 3rd list object\n",
    "fruit_list\n",
    "print(fruit_list)"
   ]
  },
  {
   "cell_type": "markdown",
   "metadata": {},
   "source": [
    "#### CP #4\n",
    "\n",
    "Add tomatos to your list:"
   ]
  },
  {
   "cell_type": "code",
   "execution_count": null,
   "metadata": {},
   "outputs": [],
   "source": [
    "# Add new list object\n",
    "fruit_list\n",
    "print(fruit_list)"
   ]
  },
  {
   "cell_type": "markdown",
   "metadata": {},
   "source": [
    "### Dictionary Manipulation\n",
    "\n",
    "#### CP #5\n",
    "\n",
    "Print all of the keys in the address dictionary below: "
   ]
  },
  {
   "cell_type": "code",
   "execution_count": 1,
   "metadata": {},
   "outputs": [
    {
     "name": "stdout",
     "output_type": "stream",
     "text": [
      "{'joe': '123 Main St.', 'john': '124 Main St.', 'jake': '125 Main St.'}\n"
     ]
    }
   ],
   "source": [
    "# Define address dictionary\n",
    "address_dict = {\n",
    "    'joe': '123 Main St.', \n",
    "    'john': '124 Main St.', \n",
    "    'jake': '125 Main St.'}\n",
    "\n",
    "print(address_dict)"
   ]
  },
  {
   "cell_type": "code",
   "execution_count": 2,
   "metadata": {},
   "outputs": [
    {
     "name": "stdout",
     "output_type": "stream",
     "text": [
      "{'joe': '123 Main St.', 'john': '124 Main St.', 'jake': '125 Main St.'}\n"
     ]
    }
   ],
   "source": [
    "# Print keys from address_dict\n",
    "print(address_dict)"
   ]
  },
  {
   "cell_type": "markdown",
   "metadata": {},
   "source": [
    "#### CP #6\n",
    "\n",
    "Print jake's address only:"
   ]
  },
  {
   "cell_type": "code",
   "execution_count": 3,
   "metadata": {},
   "outputs": [
    {
     "name": "stdout",
     "output_type": "stream",
     "text": [
      "{'joe': '123 Main St.', 'john': '124 Main St.', 'jake': '125 Main St.'}\n"
     ]
    }
   ],
   "source": [
    "print(address_dict)"
   ]
  },
  {
   "cell_type": "markdown",
   "metadata": {},
   "source": [
    "#### Next Steps\n",
    "\n",
    "Head back to the [Course Intro](./00_course_intro.ipynb) or to the next section: [Data Manipulation with Python](./03_loading_packages_and_data.ipynb)"
   ]
  }
 ],
 "metadata": {
  "kernelspec": {
   "display_name": "Python 3.10.6 64-bit",
   "language": "python",
   "name": "python3"
  },
  "language_info": {
   "codemirror_mode": {
    "name": "ipython",
    "version": 3
   },
   "file_extension": ".py",
   "mimetype": "text/x-python",
   "name": "python",
   "nbconvert_exporter": "python",
   "pygments_lexer": "ipython3",
   "version": "3.10.6"
  },
  "orig_nbformat": 4,
  "vscode": {
   "interpreter": {
    "hash": "7647ba9298a729004ac304b6e4448421e14775e9b2492e20497bf3db620b69a5"
   }
  }
 },
 "nbformat": 4,
 "nbformat_minor": 2
}
