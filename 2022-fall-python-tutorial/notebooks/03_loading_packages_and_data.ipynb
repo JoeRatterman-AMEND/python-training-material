{
 "cells": [
  {
   "cell_type": "code",
   "execution_count": null,
   "metadata": {},
   "outputs": [],
   "source": []
  }
 ],
 "metadata": {
  "kernelspec": {
   "display_name": "Python 3.8.8 ('base')",
   "language": "python",
   "name": "python3"
  },
  "language_info": {
   "name": "python",
   "version": "3.8.8"
  },
  "orig_nbformat": 4,
  "vscode": {
   "interpreter": {
    "hash": "77e84ef247564dcb1f65a86392ae49f602e85e74df53693c47a42d611cbf3c75"
   }
  }
 },
 "nbformat": 4,
 "nbformat_minor": 2
}
