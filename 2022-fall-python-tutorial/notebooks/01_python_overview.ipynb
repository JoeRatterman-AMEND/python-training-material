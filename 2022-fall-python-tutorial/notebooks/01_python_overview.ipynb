{
 "cells": [
  {
   "cell_type": "markdown",
   "metadata": {},
   "source": [
    "## What is Python\n",
    "Python is an open source programming language that has become one of the most popular in the world due to its versatility & ease of use. Let's break that down one-step further: \n",
    "\n",
    "a. Open Source = free to use<br>\n",
    "b. Programming Language = computer language that converts human logic to computer logic<br>\n",
    "c. Versatility = python can build websites, machine learning models, connections between various systems, and more!<br>\n",
    "d. Ease of Use = *relatively* straightforward to read & understand logic - this one will be hard to prove, but we'll do our best!<br>\n",
    "\n",
    "## How to use Python\n",
    "Run python using.... \n",
    "\n",
    "1. Command Line<br>\n",
    "2. Integrated Development Environment (IDE)<br>\n",
    "\n",
    "**Ok... what is an IDE**? <br><br>\n",
    "\n",
    "A tool that allows a programmer to load multiple tools, programs, scripts into one area to develop in a given program language. Popular examples: \n",
    "\n",
    "1. Visual Studio Code - supports hundreds of different programming languages<br>\n",
    "2. Jupyter Lab - supports hundreds of different programming languages<br>\n",
    "3. R Studio - primarily supports R code<br>\n",
    "4. Hundreds of other IDEs exist - the best one is the one that YOU like the most.<br>\n",
    "\n",
    "**Ok... lots of options, but where do I start?**\n",
    "\n",
    "Visual Studio Code (VS Code) is a great option for beginners (& pros)\n",
    "\n",
    "| Pros | Cons |\n",
    "| --- | --- | \n",
    "| Easy Install | Debugging *can* be confusing |\n",
    "| Supports Popular Languages||\n",
    "| Connects well to other tools||\n",
    "| Well documented online||\n",
    "| Supports Jupyter Notebooks||\n",
    "\n",
    "Join VS Code with Jupyter Notebooks to accelerate your learning & debugging!\n",
    "\n",
    "\n",
    "### What is Jupyter Notebook\n",
    "Jupyter is a web-based IDE that allows python code to be run in blocks & also add text sections between blocks of code. This makes it great for traning courses & for testing code in small sections. This traning course is built in a Jupyter Notebook. \n",
    "\n",
    "### Configure VS Code to Run Python\n",
    "\n",
    "#### Download Python\n",
    "\n",
    "To download python, navigate to https://www.python.org/downloads/ & select the version appropriate for your machine (Windows, Mac, Linux). As with most programs, there will be prompts that ask if any custom settings are needed - selecting the defaults are fine.\n",
    "\n",
    "#### Download VS Code\n",
    "To download VS Code, navigate to https://code.visualstudio.com/download & select the version appropriate for your machine (Windows, Mac, Linux). \n",
    "\n",
    "After installing VS Code, install python & jupyter extensions to use them. Search for Python & Jupyter <br>\n"
   ]
  },
  {
   "cell_type": "markdown",
   "metadata": {},
   "source": [
    "<center>\n",
    "\n",
    "**Install Extensions:**<br>\n",
    "![extensions](support-docs/extensions_screenshot.JPG)\n",
    "\n",
    "</center>"
   ]
  },
  {
   "cell_type": "markdown",
   "metadata": {},
   "source": [
    "<center>\n",
    "\n",
    "**Install Python:**<br>\n",
    "![pythonext](support-docs/python_screenshot.jpg)\n",
    "\n",
    "</center>"
   ]
  },
  {
   "cell_type": "markdown",
   "metadata": {},
   "source": [
    "<center>\n",
    "\n",
    "**Install Jupyter:**<br>\n",
    "![pythonext](support-docs/jupyter_screenshot.jpg)\n",
    "\n",
    "</center>"
   ]
  },
  {
   "cell_type": "markdown",
   "metadata": {},
   "source": []
  },
  {
   "cell_type": "markdown",
   "metadata": {},
   "source": [
    "## Install Python\n",
    "\n",
    "Congratulations! You have downloaded & installed python. Now the fun part - how to use python. Python has a number of IDE (Integrated Development Environment) options. If this is a new term, think \"user-interface\". A few options are listed below - some are easier to get setup than others. In my opinion, whatever you can figure out to install & use is the best choice. \n",
    "\n",
    "1. JupyterLab / Jupyter Notebook (technically different things)\n",
    "2. Visual Studio Code\n",
    "3. Atom\n",
    "4. Command Prompt\n",
    "5. Most text editors.\n",
    "\n",
    "Installing JupyterLab / Jupyter Notebooks is very straightforward & is great for making Markdown files. So I'll run through that example. To install on Windows: \n",
    "\n",
    "1. Type Command Prompt into your 'Start Menu'. \n",
    "2. Type \"py\" - this starts python. \n",
    "3. Type \"-m pip install jupyterlab\"\n",
    "4. A few questions may pop up, type 'yes' as needed.\n",
    "5. After installation, open up your 'Start Menu' again & search for JupyterLab. \n",
    "6. The user-interface will launch & you'll be able to create python scripts from scratch. "
   ]
  },
  {
   "cell_type": "markdown",
   "metadata": {},
   "source": []
  }
 ],
 "metadata": {
  "language_info": {
   "name": "python"
  },
  "orig_nbformat": 4
 },
 "nbformat": 4,
 "nbformat_minor": 2
}
