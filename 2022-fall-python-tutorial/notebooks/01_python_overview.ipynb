{
 "cells": [
  {
   "cell_type": "markdown",
   "metadata": {},
   "source": [
    "## What is Python\n",
    "Python is an open source programming language that has become one of the most popular in the world due to its versatility & ease of use. Let's break that down one-step further: \n",
    "\n",
    "a. Open Source = free to use<br>\n",
    "b. Programming Language = computer language that converts human logic to computer logic<br>\n",
    "c. Versatility = python can build websites, machine learning models, connections between various systems, and more!<br>\n",
    "d. Ease of Use = *relatively* straightforward to read & understand logic - this one will be hard to prove, but we'll do our best!<br>\n",
    "\n",
    "## How to use Python\n",
    "Run python using.... \n",
    "\n",
    "1. Command Line<br>\n",
    "2. Integrated Development Environment (IDE)<br>\n",
    "\n",
    "**Ok... what is an IDE**? <br><br>\n",
    "\n",
    "A tool that allows a programmer to load multiple tools, programs, scripts into one area to develop in a given program language. Popular examples: \n",
    "\n",
    "1. Visual Studio Code - supports hundreds of different programming languages<br>\n",
    "2. Jupyter Lab - supports hundreds of different programming languages<br>\n",
    "3. R Studio - primarily supports R code<br>\n",
    "4. Hundreds of other IDEs exist - the best one is the one that YOU like the most.<br>\n",
    "\n",
    "**Ok... lots of options, but where do I start?**\n",
    "\n",
    "Visual Studio Code (VS Code) is a great option for beginners (& pros)\n",
    "\n",
    "| Pros | Cons |\n",
    "| --- | --- | \n",
    "| Easy Install | Debugging *can* be confusing |\n",
    "| Supports Popular Languages||\n",
    "| Connects well to other tools||\n",
    "| Well documented online||\n",
    "| Supports Jupyter Notebooks||\n",
    "\n",
    "Join VS Code with Jupyter Notebooks to accelerate your learning & debugging!\n",
    "\n",
    "\n",
    "### What is Jupyter Notebook\n",
    "Jupyter is a web-based IDE that allows python code to be run in blocks & also add text sections between blocks of code. This makes it great for traning courses & for testing code in small sections. This traning course is built in a Jupyter Notebook. \n",
    "\n",
    "### Configure VS Code to Run Python\n",
    "\n",
    "#### Download Python\n",
    "\n",
    "To download python, navigate to https://www.python.org/downloads/ & select the version appropriate for your machine (Windows, Mac, Linux). As with most programs, there will be prompts that ask if any custom settings are needed - selecting the defaults are fine.\n",
    "\n",
    "#### Download VS Code\n",
    "To download VS Code, navigate to https://code.visualstudio.com/download & select the version appropriate for your machine (Windows, Mac, Linux). \n",
    "\n",
    "After installing VS Code, install python & jupyter extensions to use them. Search for Python & Jupyter <br>\n"
   ]
  },
  {
   "cell_type": "markdown",
   "metadata": {},
   "source": [
    "\n",
    "**Install Extensions**<br>\n",
    "![](support-docs/extensions_screenshot.JPG)\n"
   ]
  },
  {
   "cell_type": "markdown",
   "metadata": {},
   "source": [
    "**Install Python:**<br>\n",
    "![](support-docs/python_screenshot.JPG)\n"
   ]
  },
  {
   "cell_type": "markdown",
   "metadata": {},
   "source": [
    "**Install Jupyter:**<br>\n",
    "![](support-docs/jupyter_screenshot.JPG)"
   ]
  },
  {
   "cell_type": "markdown",
   "metadata": {},
   "source": [
    "**Open a Project (Folder)**:\n",
    "\n",
    "Projects are a way to keep a code base organized - typically each project you work on would have it's own folder. This integrates nicely with GitHub Repositories - however that is beyond the scope of this section. <br>\n",
    "\n",
    "Click 'Open Folder' & select a folder for your project or alternitavely create a new folder for your project. \n",
    "\n",
    "![](support-docs/open_project.JPG)\n",
    "\n",
    "Below is an example of how this tutorial looks in VS Code as a Project: \n",
    "\n",
    "![](support-docs/this_project.JPG)\n",
    "\n",
    "Note that 2022-fall-python-tutorial contains two sub-folders: \n",
    "1. data<br>\n",
    "2. notebooks<br>\n",
    "\n",
    "This matches the structure if you were to look at the folder in the File Explorer. <br>\n",
    "\n",
    "![](support-docs/this_project_file_ex.JPG)\n",
    "\n",
    "In essence, opening a folder in VS Code will load the entire folder, including sub-folders, allowing the developer to see all files. This makes referencing files easy & helps keep everything in one location. \n"
   ]
  },
  {
   "cell_type": "markdown",
   "metadata": {},
   "source": [
    "### Base Python Operations\n",
    "As mentioned above python is a programming language, meanting that it helps to translate between human commands and computer commands. One of the earliest & simplest forms of a computer program was the calculator. While python can do a lot of cool things, here are some easy examples of using python as a calculator:\n",
    "\n",
    "\n",
    "##### Basic Operators\n",
    "1. '+' Addition\n",
    "2. '-' Subtraction\n",
    "3. '*' Multiplication\n",
    "4. '/' Division\n",
    "5. ** Exponent\n",
    "6. '%' Modulus (remainder)\n",
    "7. '//' Floor Division (round down)"
   ]
  },
  {
   "cell_type": "code",
   "execution_count": null,
   "metadata": {},
   "outputs": [],
   "source": [
    "# Python Addition\n",
    "4 + 4"
   ]
  },
  {
   "cell_type": "code",
   "execution_count": null,
   "metadata": {},
   "outputs": [],
   "source": [
    "# Python Subtraction\n",
    "10 - 5"
   ]
  },
  {
   "cell_type": "code",
   "execution_count": null,
   "metadata": {},
   "outputs": [],
   "source": [
    "# Python Multiplcation\n",
    "5 * 5"
   ]
  },
  {
   "cell_type": "code",
   "execution_count": null,
   "metadata": {},
   "outputs": [],
   "source": [
    "# Python Division\n",
    "40 / 8"
   ]
  },
  {
   "cell_type": "code",
   "execution_count": null,
   "metadata": {},
   "outputs": [],
   "source": [
    "# Python Exponent\n",
    "3**2"
   ]
  },
  {
   "cell_type": "code",
   "execution_count": null,
   "metadata": {},
   "outputs": [],
   "source": [
    "# Python Modulus\n",
    "23 % 5"
   ]
  },
  {
   "cell_type": "code",
   "execution_count": null,
   "metadata": {},
   "outputs": [],
   "source": [
    "# Multiple Operations Example\n",
    "8*((9-4)%2)+1"
   ]
  },
  {
   "cell_type": "markdown",
   "metadata": {},
   "source": [
    "#### Next Steps\n",
    "Now that we have a base understanding of what Python is & how to use it to create a project (one of many ways!), let's start *actually* using Python!\n",
    "\n",
    "Head back to the [Course Intro](./00_course_intro.ipynb) or to the next section: [Python Data Types & Base Operations](./02_data_types_and_base_ops.ipynb)"
   ]
  }
 ],
 "metadata": {
  "kernelspec": {
   "display_name": "Python 3.8.8 ('base')",
   "language": "python",
   "name": "python3"
  },
  "language_info": {
   "codemirror_mode": {
    "name": "ipython",
    "version": 3
   },
   "file_extension": ".py",
   "mimetype": "text/x-python",
   "name": "python",
   "nbconvert_exporter": "python",
   "pygments_lexer": "ipython3",
   "version": "3.8.8"
  },
  "orig_nbformat": 4,
  "vscode": {
   "interpreter": {
    "hash": "77e84ef247564dcb1f65a86392ae49f602e85e74df53693c47a42d611cbf3c75"
   }
  }
 },
 "nbformat": 4,
 "nbformat_minor": 2
}
