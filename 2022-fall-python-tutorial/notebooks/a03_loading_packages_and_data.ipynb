{
 "cells": [
  {
   "cell_type": "markdown",
   "metadata": {},
   "source": [
    "# Python Data Types\n",
    "\n",
    "### Loading Packages\n",
    "\n",
    "In this set of challenge problems, we will practice installing & loading packages."
   ]
  },
  {
   "cell_type": "markdown",
   "metadata": {},
   "source": [
    "#### CP #1\n",
    "\n",
    "Install the pandas package: \n",
    "\n",
    "*Note - this should be done in the 'terminal' using pip*."
   ]
  },
  {
   "cell_type": "markdown",
   "metadata": {},
   "source": [
    "#### CP #2 \n",
    "\n",
    "Import the pandas package - using the standard alias:"
   ]
  },
  {
   "cell_type": "code",
   "execution_count": null,
   "metadata": {},
   "outputs": [],
   "source": [
    "# Load the pandas package\n"
   ]
  },
  {
   "cell_type": "markdown",
   "metadata": {},
   "source": [
    "#### CP #3 \n",
    "\n",
    "Import the the cycle function from the itertools package:"
   ]
  },
  {
   "cell_type": "code",
   "execution_count": null,
   "metadata": {},
   "outputs": [],
   "source": [
    "# Import the cycle function\n",
    "from itertools"
   ]
  },
  {
   "cell_type": "markdown",
   "metadata": {},
   "source": [
    "#### CP #4\n",
    "\n",
    "Import the McDonald's India Menu file from the data sub-folder:"
   ]
  },
  {
   "cell_type": "code",
   "execution_count": null,
   "metadata": {},
   "outputs": [],
   "source": [
    "# Define the file path & file name\n",
    "file_name = file_path = '../../2022-fall-python-tutorial/data/India_Menu.csv'\n",
    "\n",
    "# Load the file menu file\n",
    "menu_df = "
   ]
  },
  {
   "cell_type": "markdown",
   "metadata": {},
   "source": [
    "#### CP #5\n",
    "\n",
    "Print the last 4 rows of the menu_df:"
   ]
  },
  {
   "cell_type": "code",
   "execution_count": null,
   "metadata": {},
   "outputs": [],
   "source": [
    "print(menu_df)"
   ]
  },
  {
   "cell_type": "markdown",
   "metadata": {},
   "source": [
    "#### Next Steps\n",
    "\n",
    "Head back to the [Course Intro](./00_course_intro.ipynb) or to the next section: [Data Manipulations with Python](./04_data_manipulations_in_python.ipynb)"
   ]
  }
 ],
 "metadata": {
  "kernelspec": {
   "display_name": "Python 3.10.6 64-bit",
   "language": "python",
   "name": "python3"
  },
  "language_info": {
   "codemirror_mode": {
    "name": "ipython",
    "version": 3
   },
   "file_extension": ".py",
   "mimetype": "text/x-python",
   "name": "python",
   "nbconvert_exporter": "python",
   "pygments_lexer": "ipython3",
   "version": "3.10.6"
  },
  "orig_nbformat": 4,
  "vscode": {
   "interpreter": {
    "hash": "7647ba9298a729004ac304b6e4448421e14775e9b2492e20497bf3db620b69a5"
   }
  }
 },
 "nbformat": 4,
 "nbformat_minor": 2
}
