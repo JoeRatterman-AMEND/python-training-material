{
 "cells": [
  {
   "cell_type": "markdown",
   "metadata": {},
   "source": [
    "# Python Introduction Tutorial\n",
    "\n",
    "### Motivation\n",
    "This tutorial is intended to introduce python programming for beginners & explain common analytic concepts. Detailed math explanations are beyond the scope of this tutorial, however, links will be provided throughout that reference sites to additional research. \n",
    "\n",
    "### Topics Covered\n",
    "1. [Installing Python & Jupyter Notebook](./01_python_overview.ipynb) <br>\n",
    "    a. What is Python<br>\n",
    "    b. How to use Python<br>\n",
    "    c. Configure VS Code<br><br>\n",
    "2. Base Python Operations<br>\n",
    "    a. Python as a calculator<br><br>\n",
    "3. Loading Packages & Data with Python<br>\n",
    "    a. What is a Package<br>\n",
    "    b. Common Packages to Make Your Life Easier<br>\n",
    "    c. Load Data into Python<br><br>\n",
    "4. Data Types<br>\n",
    "    a. What Types of Data does Python Use<br>\n",
    "    b. Why do Data Types Matter<br><br>\n",
    "5. Data Structures<br>\n",
    "    a. How does Data get stored in Python<br>\n",
    "    b. Use Cases for Different Structures<br><br>\n",
    "6. Data Manipulation with Python<br>\n",
    "    a. Pandas Data Manipulation<br>\n",
    "    b. List Data Manipulation<br>\n",
    "    c. Dictionary Data Manipulation<br><br>\n",
    "7. Writing Conditional Statements, Loops, and Functions in Python<br>\n",
    "    a. If-Else Logic<br>\n",
    "    b. Loop Logic<br>\n",
    "    c. Write Custom Functions<br>\n",
    "\n",
    "\n",
    "### About the Author\n",
    "[Joe Ratterman](https://github.com/JoeRatterman-AMEND) - Data Scientist @ [AMEND Consulting](https://amendllc.com/amend-team/)\n",
    "\n",
    "\n"
   ]
  },
  {
   "cell_type": "markdown",
   "metadata": {},
   "source": []
  }
 ],
 "metadata": {
  "language_info": {
   "name": "python"
  },
  "orig_nbformat": 4
 },
 "nbformat": 4,
 "nbformat_minor": 2
}
