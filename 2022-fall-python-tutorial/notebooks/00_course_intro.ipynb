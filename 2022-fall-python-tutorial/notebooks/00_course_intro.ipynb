{
 "cells": [
  {
   "cell_type": "markdown",
   "metadata": {},
   "source": [
    "# Python Introduction Tutorial\n",
    "\n",
    "### Motivation\n",
    "This tutorial is intended to introduce python programming for beginners & explain common analytic concepts. Detailed math explanations are beyond the scope of this tutorial, however, links will be provided throughout that reference sites to additional research. \n",
    "\n",
    "### Topics Covered\n",
    "1. [Installing Python & Jupyter Notebook](./01_python_overview.ipynb) <br>\n",
    "    a. What is Python<br>\n",
    "    b. How to use Python<br>\n",
    "    c. Configure VS Code<br><br>\n",
    "2. [Python Data Types & Base Operations](./02_data_types_and_base_ops.ipynb.ipynb)<br>\n",
    "    a. What Types of Data does Python Use<br>\n",
    "    b. Why do Data Types Matter<br>\n",
    "    c. Python as a calculator<br><br>\n",
    "3. [Loading Packages & Data with Python](./03_loading_packages_and_data.ipynb)<br>\n",
    "    a. What is a Package<br>\n",
    "    b. Common Packages to Make Your Life Easier<br>\n",
    "    c. Load Data into Python<br><br>\n",
    "4. [Data Manipulation with Python](./04_data_manipulations_in_python.ipynb)<br>\n",
    "    a. Pandas Data Manipulation<br>\n",
    "    b. List Data Manipulation<br>\n",
    "    c. Dictionary Data Manipulation<br><br>\n",
    "5. Writing Conditional Statements, Loops, and Functions in Python<br>\n",
    "    a. If-Else Logic<br>\n",
    "    b. Loop Logic<br>\n",
    "    c. Write Custom Functions<br>\n",
    "\n",
    "\n",
    "### About the Author\n",
    "[Joe Ratterman](https://github.com/JoeRatterman-AMEND) - Data Scientist @ [AMEND Consulting](https://amendllc.com/amend-team/)\n",
    "\n",
    "\n"
   ]
  },
  {
   "cell_type": "markdown",
   "metadata": {},
   "source": []
  }
 ],
 "metadata": {
  "kernelspec": {
   "display_name": "Python 3.8.8 ('base')",
   "language": "python",
   "name": "python3"
  },
  "language_info": {
   "name": "python",
   "version": "3.8.8"
  },
  "orig_nbformat": 4,
  "vscode": {
   "interpreter": {
    "hash": "77e84ef247564dcb1f65a86392ae49f602e85e74df53693c47a42d611cbf3c75"
   }
  }
 },
 "nbformat": 4,
 "nbformat_minor": 2
}
