{
 "cells": [
  {
   "cell_type": "markdown",
   "metadata": {},
   "source": [
    "# Conditionals, Loops, & Functions\n",
    "\n",
    "### Conditionals\n",
    "\n",
    "In this set of challenge problems, we will practice if-then statements."
   ]
  },
  {
   "cell_type": "markdown",
   "metadata": {},
   "source": [
    "#### CP #1\n",
    "\n",
    "Check if apples are in my shopping_list - if so, print \"We're getting apples!\". If not print, \"We should get apples!\":\n",
    "\n",
    "*Hint - let's ~count~ how many times 'apples' is in the list*"
   ]
  },
  {
   "cell_type": "code",
   "execution_count": 13,
   "metadata": {},
   "outputs": [],
   "source": [
    "# Define shopping list\n",
    "shopping_list = ['crackers', 'bread', 'apples']\n",
    "\n",
    "# Alternate shopping list for testing - uncomment as needed\n",
    "#shopping_list = ['crackers', 'bread', 'corn']"
   ]
  },
  {
   "cell_type": "code",
   "execution_count": 14,
   "metadata": {},
   "outputs": [
    {
     "name": "stdout",
     "output_type": "stream",
     "text": [
      "We're getting apples!\n"
     ]
    }
   ],
   "source": [
    "# Check if apples are in my shopping_list\n",
    "if shopping_list: \n",
    "    print()\n",
    "\n",
    "else:\n",
    "    print()"
   ]
  },
  {
   "cell_type": "markdown",
   "metadata": {},
   "source": [
    "#### CP #2\n",
    "\n",
    "Write a for loop to add each item from my shopping_list to my usual_shopping_list:"
   ]
  },
  {
   "cell_type": "code",
   "execution_count": 19,
   "metadata": {},
   "outputs": [
    {
     "name": "stdout",
     "output_type": "stream",
     "text": [
      "Adding crackers to my full_list\n",
      "Adding bread to my full_list\n",
      "Adding apples to my full_list\n",
      "['chicken', 'beets', 'beef', 'bananas', 'almonds', 'frozen pizza', 'crackers', 'bread', 'apples']\n"
     ]
    }
   ],
   "source": [
    "# Define my usual_shopping_list\n",
    "usual_shopping_list = ['chicken', 'beets', 'beef', 'bananas', 'almonds', 'frozen pizza']\n",
    "\n",
    "# Append my shopping list items to my full_list\n",
    "for :\n",
    "    print(f\"Adding {} to my full_list\")\n",
    "    usual_shopping_list\n",
    "\n",
    "print(usual_shopping_list)"
   ]
  },
  {
   "cell_type": "markdown",
   "metadata": {},
   "source": [
    "#### CP #3\n",
    "\n",
    "Let's bring it all together & write a function that does the following:\n",
    " * Starts with my usual_shopping_list\n",
    " * Adds my current_week_shopping_list items\n",
    " * Check if a specific item is on my list at the end - if not, add it\n",
    " * Returns my final_shopping_list"
   ]
  },
  {
   "cell_type": "code",
   "execution_count": 31,
   "metadata": {},
   "outputs": [],
   "source": [
    "# Define my usual_shopping_list\n",
    "usual_shopping_list = ['chicken', 'beets', 'beef', 'bananas', 'almonds', 'frozen pizza']\n",
    "\n",
    "# Define my current_shopping_list\n",
    "current_shopping_list = ['apples', 'peaches', 'milk']\n",
    "\n",
    "# Define item to i want to make sure i buy\n",
    "favorite_item = 'tangerines'"
   ]
  },
  {
   "cell_type": "code",
   "execution_count": 32,
   "metadata": {},
   "outputs": [],
   "source": [
    "# Define my function\n",
    "def update_shopping_list(usual_list, current_week_list, spec_item):\n",
    "\n",
    "    # Append my shopping list items to my full_list\n",
    "    for :\n",
    "        print(f\"Adding to my usual_shopping_list\")\n",
    "        usual_list\n",
    "\n",
    "    # Check if my spec_item is in my shopping_list\n",
    "    if : \n",
    "        print(f\"We're getting !\")\n",
    "\n",
    "    else:\n",
    "        print(f\"We should get !\")\n",
    "        \n",
    "        # Add spec_item if needed\n",
    "        usual_list\n",
    "\n",
    "        print(f\"Added to my shopping list!\")\n",
    "\n",
    "    \n",
    "    return usual_list\n",
    "\n",
    "    "
   ]
  },
  {
   "cell_type": "code",
   "execution_count": 33,
   "metadata": {},
   "outputs": [
    {
     "name": "stdout",
     "output_type": "stream",
     "text": [
      "Adding apples to my usual_shopping_list\n",
      "Adding peaches to my usual_shopping_list\n",
      "Adding milk to my usual_shopping_list\n",
      "We should get tangerines!\n",
      "Added tangerines to my shopping list!\n"
     ]
    },
    {
     "data": {
      "text/plain": [
       "['chicken',\n",
       " 'beets',\n",
       " 'beef',\n",
       " 'bananas',\n",
       " 'almonds',\n",
       " 'frozen pizza',\n",
       " 'apples',\n",
       " 'peaches',\n",
       " 'milk',\n",
       " 'tangerines']"
      ]
     },
     "execution_count": 33,
     "metadata": {},
     "output_type": "execute_result"
    }
   ],
   "source": [
    "# Test my function\n",
    "update_shopping_list(usual_list = usual_shopping_list, current_week_list = current_shopping_list, spec_item = favorite_item)"
   ]
  },
  {
   "cell_type": "markdown",
   "metadata": {},
   "source": [
    "#### Next Steps\n",
    "\n",
    "Head back to the [Course Intro](./00_course_intro.ipynb) or to the next section: [Additional Topics](./06_additional_topics.ipynb)"
   ]
  }
 ],
 "metadata": {
  "kernelspec": {
   "display_name": "Python 3.10.6 64-bit",
   "language": "python",
   "name": "python3"
  },
  "language_info": {
   "codemirror_mode": {
    "name": "ipython",
    "version": 3
   },
   "file_extension": ".py",
   "mimetype": "text/x-python",
   "name": "python",
   "nbconvert_exporter": "python",
   "pygments_lexer": "ipython3",
   "version": "3.10.6"
  },
  "orig_nbformat": 4,
  "vscode": {
   "interpreter": {
    "hash": "7647ba9298a729004ac304b6e4448421e14775e9b2492e20497bf3db620b69a5"
   }
  }
 },
 "nbformat": 4,
 "nbformat_minor": 2
}
