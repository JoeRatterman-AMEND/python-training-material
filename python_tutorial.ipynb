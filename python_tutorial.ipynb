{
 "cells": [
  {
   "cell_type": "markdown",
   "metadata": {},
   "source": [
    "# Python Introduction Tutorial\n",
    "\n",
    "This tutorial is intended to introduce python programming for beginners & explain common analytic concepts. Detailed math explanations are beyond the scope of this tutorial, however, links will be provided throughout that reference sites to additional research. \n",
    "\n",
    "#### Topics Covered\n",
    "1. Installing Python & Jupyter Notebook\n",
    "2. Base Python Operations\n",
    "3. Loading Packages & Data with Python\n",
    "4. Data Types\n",
    "5. Data Manipulation with Python\n",
    "6. Writing Functions & Loops in Python\n",
    "7. Data Visualization with Python\n",
    "\n"
   ]
  },
  {
   "cell_type": "markdown",
   "metadata": {},
   "source": [
    "## Install Python\n",
    "Python is an open source programming tool that has become one of the most popular in the world due to its versatility & ease of use. To download python, navigate to https://www.python.org/downloads/ & select the version appropriate for your machine. As with most programs, there will be prompts that ask if any custom settings are needed - selecting the defaults are fine.\n",
    "\n",
    "Congratulations! You have downloaded & installed python. Now the fun part - how to use python. Python has a number of IDE (Integrated Development Environment) options. If this is a new term, think \"user-interface\". A few options are listed below - some are easier to get setup than others. In my opinion, whatever you can figure out to install & use is the best choice. \n",
    "\n",
    "1. JupyterLab / Jupyter Notebook (technically different things)\n",
    "2. Visual Studio Code\n",
    "3. Atom\n",
    "4. Command Prompt\n",
    "5. Most text editors.\n",
    "\n",
    "Installing JupyterLab / Jupyter Notebooks is very straightforward & is great for making Markdown files. So I'll run through that example. To install on Windows: \n",
    "\n",
    "1. Type Command Prompt into your 'Start Menu'. \n",
    "2. Type \"py\" - this starts python. \n",
    "3. Type \"pip install jupyterlab\"\n",
    "4. A few questions may pop up, type 'yes' as needed.\n",
    "5. After installation, open up your 'Start Menu' again & search for JupyterLab. \n",
    "6. The user-interface will launch & you'll be able to create python scripts from scratch. "
   ]
  },
  {
   "cell_type": "markdown",
   "metadata": {},
   "source": [
    "## Base Python Operations\n",
    "Sure, python can do a lot of fancy things. However, at its core, python is still a programming language. To do those fancy things, there needs to be building blocks. This section will cover some base functionality that will seem trivial but will ultimately be useful as you begin to develop more complex programs.\n",
    "\n",
    "##### Basic Operators\n",
    "1. '+' Addition\n",
    "2. '-' Subtraction\n",
    "3. '*' Multiplication\n",
    "4. '/' Division\n",
    "5. ** Exponent\n",
    "6. '%' Modulus\n",
    "7. '//' Floor Division"
   ]
  },
  {
   "cell_type": "code",
   "execution_count": null,
   "metadata": {},
   "outputs": [],
   "source": [
    "### Python Addition\n",
    "4 + 4"
   ]
  },
  {
   "cell_type": "code",
   "execution_count": null,
   "metadata": {},
   "outputs": [],
   "source": [
    "### Python Subtraction\n",
    "10 - 5"
   ]
  },
  {
   "cell_type": "code",
   "execution_count": null,
   "metadata": {},
   "outputs": [],
   "source": [
    "### Python Multiplcation\n",
    "5 * 5"
   ]
  },
  {
   "cell_type": "code",
   "execution_count": null,
   "metadata": {},
   "outputs": [],
   "source": [
    "### Python Division\n",
    "40 / 8"
   ]
  },
  {
   "cell_type": "code",
   "execution_count": null,
   "metadata": {},
   "outputs": [],
   "source": [
    "### Python Exponent\n",
    "3**2"
   ]
  },
  {
   "cell_type": "code",
   "execution_count": null,
   "metadata": {},
   "outputs": [],
   "source": [
    "### Python Modulus\n",
    "# Modulus = remainder\n",
    "23 % 5"
   ]
  },
  {
   "cell_type": "code",
   "execution_count": null,
   "metadata": {},
   "outputs": [],
   "source": [
    "### Python Floor Division\n",
    "# Division Rounded Down\n",
    "23 // 5"
   ]
  },
  {
   "cell_type": "markdown",
   "metadata": {},
   "source": [
    "All of these operators can be combined together in a continuous string. The operations will be executed following PEMDAS rules. What will 8*((9-4)%2)+1 = ? Explain why."
   ]
  },
  {
   "cell_type": "code",
   "execution_count": null,
   "metadata": {},
   "outputs": [],
   "source": [
    "### Multiple Operations Example\n",
    "8*((9-4)%2)+1"
   ]
  },
  {
   "cell_type": "markdown",
   "metadata": {},
   "source": [
    "## Loading Packages & Data with Python\n",
    "\n",
    "### Loading Packages\n",
    "A package is a collection of functions that someone or some organization made to simplify frequently used processes. For example, if I'm frequently having to calculate the square root of a number and add 5 & am tired of manually typing the steps every time, I can write a function to simplify the process: \n",
    "\n",
    "def sq_root(num int): <br>\n",
    "&nbsp;&nbsp;&nbsp;&nbsp;   sqrt(num) + 5\n",
    "    \n",
    "Now consider I have to do the same process 1000 times with 1000 different numbers. Rather than type it out 1000 times, I can make 1000 functions (or one more complex function) and then package them, so I don't have to recreate them. This is a simple example, but the idea stands - a package is a grouping of functions that can be imported to your working session. \n",
    "\n",
    "To import a function use the syntax import (package) as (alias). Replace (package) with the actual name of the package and (alias) with an abbreviation. Aliases are optional but convenient as they can reference packages with fewer keystrokes. More on that later. \n",
    "\n",
    "Many common packages are already installed when you download python, however, some packages do need to be installed. This can be directly completed in a python script or it can be completed using the command prompt. Packages only need to be installed once, so it is best practice to remove package installations from your scripts."
   ]
  },
  {
   "cell_type": "code",
   "execution_count": 1,
   "metadata": {},
   "outputs": [],
   "source": [
    "### Import pandas & numpy packages\n",
    "\n",
    "# Import pandas\n",
    "import pandas as pd\n",
    "\n",
    "# Import Numpy\n",
    "import numpy as np"
   ]
  },
  {
   "cell_type": "code",
   "execution_count": null,
   "metadata": {
    "scrolled": true
   },
   "outputs": [],
   "source": [
    "### Install a pip package in the current Jupyter kernel\n",
    "\n",
    "# Import sys package\n",
    "import sys\n",
    "\n",
    "# Run sys.executable to install the \n",
    "# desired package. numpy in this case.\n",
    "!{sys.executable} -m pip install numpy"
   ]
  },
  {
   "cell_type": "markdown",
   "metadata": {},
   "source": [
    "### Loading Data\n",
    "\n",
    "Several packages can be used to import data - this tutorial will focus on pandas. Pandas is one of the most popular packages used in python & therefore has a lot of documentation on how to use its functions. The following examples are based on loading data from csv & excel files. \n",
    "\n",
    "<br>\n",
    "\n",
    "**Load csv files**\n",
    "<br>\n",
    "read_csv(*filepath*)\n",
    "<br>\n",
    "<br>\n",
    "**Load excel files**\n",
    "<br>\n",
    "read_excel(*filepath*)\n",
    "\n"
   ]
  },
  {
   "cell_type": "code",
   "execution_count": 6,
   "metadata": {},
   "outputs": [
    {
     "data": {
      "text/html": [
       "<div>\n",
       "<style scoped>\n",
       "    .dataframe tbody tr th:only-of-type {\n",
       "        vertical-align: middle;\n",
       "    }\n",
       "\n",
       "    .dataframe tbody tr th {\n",
       "        vertical-align: top;\n",
       "    }\n",
       "\n",
       "    .dataframe thead th {\n",
       "        text-align: right;\n",
       "    }\n",
       "</style>\n",
       "<table border=\"1\" class=\"dataframe\">\n",
       "  <thead>\n",
       "    <tr style=\"text-align: right;\">\n",
       "      <th></th>\n",
       "      <th>away_assist_percentage</th>\n",
       "      <th>away_assists</th>\n",
       "      <th>away_block_percentage</th>\n",
       "      <th>away_blocks</th>\n",
       "      <th>away_defensive_rating</th>\n",
       "      <th>away_defensive_rebound_percentage</th>\n",
       "      <th>away_defensive_rebounds</th>\n",
       "      <th>away_effective_field_goal_percentage</th>\n",
       "      <th>away_field_goal_attempts</th>\n",
       "      <th>away_field_goal_percentage</th>\n",
       "      <th>...</th>\n",
       "      <th>home_two_point_field_goals</th>\n",
       "      <th>home_win_percentage</th>\n",
       "      <th>home_wins</th>\n",
       "      <th>location</th>\n",
       "      <th>losing_abbr</th>\n",
       "      <th>losing_name</th>\n",
       "      <th>pace</th>\n",
       "      <th>winner</th>\n",
       "      <th>winning_abbr</th>\n",
       "      <th>winning_name</th>\n",
       "    </tr>\n",
       "  </thead>\n",
       "  <tbody>\n",
       "    <tr>\n",
       "      <th>0</th>\n",
       "      <td>41.4</td>\n",
       "      <td>12</td>\n",
       "      <td>2.4</td>\n",
       "      <td>1</td>\n",
       "      <td>96.0</td>\n",
       "      <td>64.5</td>\n",
       "      <td>20</td>\n",
       "      <td>0.594</td>\n",
       "      <td>53</td>\n",
       "      <td>0.547</td>\n",
       "      <td>...</td>\n",
       "      <td>22</td>\n",
       "      <td>0.0</td>\n",
       "      <td>0</td>\n",
       "      <td>Germain Arena, Estero, Florida</td>\n",
       "      <td>AUSTIN-PEAY</td>\n",
       "      <td>Austin Peay</td>\n",
       "      <td>75.2</td>\n",
       "      <td>Away</td>\n",
       "      <td>ABILENE-CHRISTIAN</td>\n",
       "      <td>Abilene Christian</td>\n",
       "    </tr>\n",
       "    <tr>\n",
       "      <th>1</th>\n",
       "      <td>57.7</td>\n",
       "      <td>15</td>\n",
       "      <td>0.0</td>\n",
       "      <td>0</td>\n",
       "      <td>78.4</td>\n",
       "      <td>81.5</td>\n",
       "      <td>22</td>\n",
       "      <td>0.500</td>\n",
       "      <td>58</td>\n",
       "      <td>0.448</td>\n",
       "      <td>...</td>\n",
       "      <td>21</td>\n",
       "      <td>0.0</td>\n",
       "      <td>0</td>\n",
       "      <td>Germain Arena, Estero, Florida</td>\n",
       "      <td>NEBRASKA-OMAHA</td>\n",
       "      <td>Omaha</td>\n",
       "      <td>73.8</td>\n",
       "      <td>Away</td>\n",
       "      <td>ABILENE-CHRISTIAN</td>\n",
       "      <td>Abilene Christian</td>\n",
       "    </tr>\n",
       "    <tr>\n",
       "      <th>2</th>\n",
       "      <td>52.9</td>\n",
       "      <td>9</td>\n",
       "      <td>8.1</td>\n",
       "      <td>3</td>\n",
       "      <td>98.8</td>\n",
       "      <td>56.4</td>\n",
       "      <td>22</td>\n",
       "      <td>0.400</td>\n",
       "      <td>50</td>\n",
       "      <td>0.340</td>\n",
       "      <td>...</td>\n",
       "      <td>21</td>\n",
       "      <td>0.0</td>\n",
       "      <td>0</td>\n",
       "      <td>Moody Coliseum , Abilene, Texas</td>\n",
       "      <td>Howard Payne\\n\\t\\t\\t</td>\n",
       "      <td>Howard Payne\\n\\t\\t\\t</td>\n",
       "      <td>81.6</td>\n",
       "      <td>Home</td>\n",
       "      <td>ABILENE-CHRISTIAN</td>\n",
       "      <td>Abilene Christian</td>\n",
       "    </tr>\n",
       "  </tbody>\n",
       "</table>\n",
       "<p>3 rows × 86 columns</p>\n",
       "</div>"
      ],
      "text/plain": [
       "   away_assist_percentage  away_assists  away_block_percentage  away_blocks  \\\n",
       "0                    41.4            12                    2.4            1   \n",
       "1                    57.7            15                    0.0            0   \n",
       "2                    52.9             9                    8.1            3   \n",
       "\n",
       "   away_defensive_rating  away_defensive_rebound_percentage  \\\n",
       "0                   96.0                               64.5   \n",
       "1                   78.4                               81.5   \n",
       "2                   98.8                               56.4   \n",
       "\n",
       "   away_defensive_rebounds  away_effective_field_goal_percentage  \\\n",
       "0                       20                                 0.594   \n",
       "1                       22                                 0.500   \n",
       "2                       22                                 0.400   \n",
       "\n",
       "   away_field_goal_attempts  away_field_goal_percentage  ...  \\\n",
       "0                        53                       0.547  ...   \n",
       "1                        58                       0.448  ...   \n",
       "2                        50                       0.340  ...   \n",
       "\n",
       "   home_two_point_field_goals  home_win_percentage  home_wins  \\\n",
       "0                          22                  0.0          0   \n",
       "1                          21                  0.0          0   \n",
       "2                          21                  0.0          0   \n",
       "\n",
       "                          location           losing_abbr  \\\n",
       "0   Germain Arena, Estero, Florida           AUSTIN-PEAY   \n",
       "1   Germain Arena, Estero, Florida        NEBRASKA-OMAHA   \n",
       "2  Moody Coliseum , Abilene, Texas  Howard Payne\\n\\t\\t\\t   \n",
       "\n",
       "            losing_name  pace  winner       winning_abbr       winning_name  \n",
       "0           Austin Peay  75.2    Away  ABILENE-CHRISTIAN  Abilene Christian  \n",
       "1                 Omaha  73.8    Away  ABILENE-CHRISTIAN  Abilene Christian  \n",
       "2  Howard Payne\\n\\t\\t\\t  81.6    Home  ABILENE-CHRISTIAN  Abilene Christian  \n",
       "\n",
       "[3 rows x 86 columns]"
      ]
     },
     "execution_count": 6,
     "metadata": {},
     "output_type": "execute_result"
    }
   ],
   "source": [
    "### Load a csv file\n",
    "# Loading an excel file follows the same process & will not be covered here\n",
    "\n",
    "# Define the file path\n",
    "filepath_csv = 'C:/Users/JoeRatterman/Documents/GitHub/MarchMadness2021/boxscores/2021_boxscores.csv'\n",
    "\n",
    "# Load file\n",
    "df = pd.read_csv(filepath_csv)\n",
    "\n",
    "# Print first few rows data\n",
    "df.head(3)"
   ]
  },
  {
   "cell_type": "markdown",
   "metadata": {},
   "source": [
    "Data can also be read from databases. The process for this is similar, however, it can require different packages. The appropriate package is dependent on the goal of the data load. There are packages that can connect to a database and read a table or execute a stored procedure & there are even packages that allow you to code SQL in your python environment. Using SQL in python will not be covered in this tutorial, but if you're interested search Google for sqlite3.\n",
    "\n",
    "\n"
   ]
  },
  {
   "cell_type": "code",
   "execution_count": 7,
   "metadata": {},
   "outputs": [
    {
     "ename": "SystemError",
     "evalue": "<class 'pyodbc.Error'> returned a result with an error set",
     "output_type": "error",
     "traceback": [
      "\u001b[1;31m---------------------------------------------------------------------------\u001b[0m",
      "\u001b[1;31mKeyboardInterrupt\u001b[0m                         Traceback (most recent call last)",
      "\u001b[1;32m~\\anaconda3\\lib\\encodings\\utf_16_le.py\u001b[0m in \u001b[0;36mdecode\u001b[1;34m(input, errors)\u001b[0m\n\u001b[0;32m     14\u001b[0m \u001b[1;33m\u001b[0m\u001b[0m\n\u001b[1;32m---> 15\u001b[1;33m \u001b[1;32mdef\u001b[0m \u001b[0mdecode\u001b[0m\u001b[1;33m(\u001b[0m\u001b[0minput\u001b[0m\u001b[1;33m,\u001b[0m \u001b[0merrors\u001b[0m\u001b[1;33m=\u001b[0m\u001b[1;34m'strict'\u001b[0m\u001b[1;33m)\u001b[0m\u001b[1;33m:\u001b[0m\u001b[1;33m\u001b[0m\u001b[1;33m\u001b[0m\u001b[0m\n\u001b[0m\u001b[0;32m     16\u001b[0m     \u001b[1;32mreturn\u001b[0m \u001b[0mcodecs\u001b[0m\u001b[1;33m.\u001b[0m\u001b[0mutf_16_le_decode\u001b[0m\u001b[1;33m(\u001b[0m\u001b[0minput\u001b[0m\u001b[1;33m,\u001b[0m \u001b[0merrors\u001b[0m\u001b[1;33m,\u001b[0m \u001b[1;32mTrue\u001b[0m\u001b[1;33m)\u001b[0m\u001b[1;33m\u001b[0m\u001b[1;33m\u001b[0m\u001b[0m\n",
      "\u001b[1;31mKeyboardInterrupt\u001b[0m: ",
      "\nThe above exception was the direct cause of the following exception:\n",
      "\u001b[1;31mKeyboardInterrupt\u001b[0m                         Traceback (most recent call last)",
      "\u001b[1;31mKeyboardInterrupt\u001b[0m: decoding with 'utf-16le' codec failed (KeyboardInterrupt: )",
      "\nThe above exception was the direct cause of the following exception:\n",
      "\u001b[1;31mSystemError\u001b[0m                               Traceback (most recent call last)",
      "\u001b[1;32m<ipython-input-7-4f0bc6b725dc>\u001b[0m in \u001b[0;36m<module>\u001b[1;34m\u001b[0m\n\u001b[0;32m      1\u001b[0m \u001b[1;32mimport\u001b[0m \u001b[0mpyodbc\u001b[0m \u001b[1;32mas\u001b[0m \u001b[0mdb\u001b[0m\u001b[1;33m\u001b[0m\u001b[1;33m\u001b[0m\u001b[0m\n\u001b[0;32m      2\u001b[0m \u001b[1;32mimport\u001b[0m \u001b[0mpandas\u001b[0m \u001b[1;32mas\u001b[0m \u001b[0mpd\u001b[0m\u001b[1;33m\u001b[0m\u001b[1;33m\u001b[0m\u001b[0m\n\u001b[1;32m----> 3\u001b[1;33m \u001b[0mconn\u001b[0m \u001b[1;33m=\u001b[0m \u001b[0mdb\u001b[0m\u001b[1;33m.\u001b[0m\u001b[0mconnect\u001b[0m\u001b[1;33m(\u001b[0m\u001b[1;34m\"DRIVER={SQL Server}; SERVER=LocalHost; DATABASE=NCAABasketball;\"\u001b[0m\u001b[1;33m)\u001b[0m\u001b[1;33m\u001b[0m\u001b[1;33m\u001b[0m\u001b[0m\n\u001b[0m\u001b[0;32m      4\u001b[0m \u001b[1;33m\u001b[0m\u001b[0m\n",
      "\u001b[1;31mSystemError\u001b[0m: <class 'pyodbc.Error'> returned a result with an error set"
     ]
    }
   ],
   "source": [
    "\n",
    "import pyodbc\n",
    "import pandas\n",
    "\n",
    "cnxn = pyodbc.connect(r'DRIVER={Microsoft Access Driver (*.mdb, *.accdb)};'\n",
    "                      r'DBQ=C:\\users\\bartogre\\desktop\\data.mdb;')\n",
    "sql = \"Select sum(CYTM), sum(PYTM), BRAND From data Group By BRAND\"\n",
    "data = pandas.read_sql(sql,cnxn)\n"
   ]
  },
  {
   "cell_type": "code",
   "execution_count": null,
   "metadata": {},
   "outputs": [],
   "source": []
  }
 ],
 "metadata": {
  "kernelspec": {
   "display_name": "Python 3",
   "language": "python",
   "name": "python3"
  },
  "language_info": {
   "codemirror_mode": {
    "name": "ipython",
    "version": 3
   },
   "file_extension": ".py",
   "mimetype": "text/x-python",
   "name": "python",
   "nbconvert_exporter": "python",
   "pygments_lexer": "ipython3",
   "version": "3.8.5"
  }
 },
 "nbformat": 4,
 "nbformat_minor": 4
}
